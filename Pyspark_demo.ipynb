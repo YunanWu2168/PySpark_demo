{
  "nbformat": 4,
  "nbformat_minor": 0,
  "metadata": {
    "colab": {
      "name": "Pyspark_demo.ipynb",
      "provenance": [],
      "collapsed_sections": []
    },
    "kernelspec": {
      "name": "python3",
      "display_name": "Python 3"
    }
  },
  "cells": [
    {
      "cell_type": "markdown",
      "metadata": {
        "id": "vIucX9-PCzan"
      },
      "source": [
        "# **Welcome to the PySpark World !**\n",
        "\n",
        "\n",
        "\n",
        "---\n",
        "\n",
        "\n",
        "\n",
        "\n",
        "\n",
        "> ## **Why use Spark?**\n",
        "\n",
        "\n",
        "\n",
        "*   Load the data to the disk\n",
        "*   Import the data into the machine's memory\n",
        "*   Process/analyze the data\n",
        "*   Build the machine learning model\n",
        "*   Store the prediction back to disk\n",
        "\n",
        "\n",
        "> ## **How Does Spark work?**\n",
        "\n",
        "\n",
        "*   Python\n",
        "*   Java\n",
        "*   Scala\n",
        "*   SQL\n",
        "\n",
        "<font color=\"blue\"> Most importantly, Spark is like a biult-in library, including packages used in data analysis, machine learning. It is also designed to work with Hadoop clusters and can read types of files, such as CSV, JSON, and Hive data. </font>\n",
        "\n",
        "\n",
        "> ## **Let's begin !**\n",
        "\n",
        "\n",
        "In this totorial, you will learn:\n",
        "\n",
        "\n",
        "**1.   Install PySpark on Colab**\n",
        "\n",
        "**2.   Basic operation with PySpark**\n",
        "\n",
        "\n",
        "  *   Load the dataset (CPDB)\n",
        "  *   Data preprocessing\n",
        "  *   Statistics\n",
        "  *   Basic Visualization\n",
        "  \n",
        "**3.   Play with the code**\n"
      ]
    },
    {
      "cell_type": "code",
      "metadata": {
        "id": "RuyxVMV8kPqk"
      },
      "source": [
        "# innstall java\n",
        "# !apt-get install openjdk-8-jdk-headless -qq > /dev/null\n",
        "\n",
        "# install spark (change the version number if needed)\n",
        "# !wget -q https://archive.apache.org/dist/spark/spark-3.0.0/spark-3.0.0-bin-hadoop3.2.tgz\n",
        "\n",
        "# unzip the spark file to the current folder\n",
        "# !tar xf spark-3.0.0-bin-hadoop3.2.tgz\n",
        "\n",
        "# set your spark folder to your system path environment. \n",
        "import os\n",
        "os.environ[\"JAVA_HOME\"] = \"/usr/lib/jvm/java-8-openjdk-amd64\"\n",
        "os.environ[\"SPARK_HOME\"] = \"/content/spark-3.0.0-bin-hadoop3.2\"\n",
        "\n",
        "\n",
        "# install findspark using pip\n",
        "!pip install -q findspark"
      ],
      "execution_count": 3,
      "outputs": []
    },
    {
      "cell_type": "markdown",
      "metadata": {
        "id": "iNx4sE_doh0K"
      },
      "source": [
        "http://apache.mirror.amaze.com.au/spark/spark-2.4.7/"
      ]
    },
    {
      "cell_type": "code",
      "metadata": {
        "id": "MeLzY8T0nucH",
        "outputId": "76a29488-cdf2-4563-c806-1be06544a825",
        "colab": {
          "base_uri": "https://localhost:8080/",
          "height": 85
        }
      },
      "source": [
        "# !gdown --id 1ahn0b2myXJ2eSoJu3z9BatW2T2QLGzvI"
      ],
      "execution_count": null,
      "outputs": [
        {
          "output_type": "stream",
          "text": [
            "Downloading...\n",
            "From: https://drive.google.com/uc?id=1ahn0b2myXJ2eSoJu3z9BatW2T2QLGzvI\n",
            "To: /content/cpdb.sql\n",
            "1.54GB [00:25, 61.3MB/s]\n"
          ],
          "name": "stdout"
        }
      ]
    },
    {
      "cell_type": "code",
      "metadata": {
        "id": "fvq8jvEzk7qp"
      },
      "source": [
        "import findspark\n",
        "findspark.init()\n",
        "\n",
        "from pyspark.sql import SparkSession\n",
        "spark = SparkSession.builder.master(\"local[*]\").getOrCreate()"
      ],
      "execution_count": 4,
      "outputs": []
    },
    {
      "cell_type": "code",
      "metadata": {
        "id": "pVoItdVBnW5u"
      },
      "source": [
        "from pyspark.sql import SparkSession\n",
        "from pyspark.conf import SparkConf\n",
        "from pyspark.sql.types import * \n",
        "import pyspark.sql.functions as F\n",
        "from pyspark.sql.functions import col, asc,desc\n",
        "import matplotlib.pyplot as plt\n",
        "import numpy as np\n",
        "import seaborn as sns\n",
        "from pyspark.sql import SQLContext\n",
        "from pyspark.mllib.stat import Statistics\n",
        "import pandas as pd\n",
        "from pyspark.sql.functions import udf\n",
        "from pyspark.ml.feature import OneHotEncoder, StringIndexer, VectorAssembler,StandardScaler\n",
        "from pyspark.ml import Pipeline\n",
        "from sklearn.metrics import confusion_matrix"
      ],
      "execution_count": 5,
      "outputs": []
    },
    {
      "cell_type": "code",
      "metadata": {
        "id": "m6l-B6yNvSe4"
      },
      "source": [
        "# with open(\"cpdb.sql\") as fr:\n",
        "#    query = fr.read()\n",
        "# results = sqlContext.sql(query)"
      ],
      "execution_count": null,
      "outputs": []
    },
    {
      "cell_type": "code",
      "metadata": {
        "id": "wkc09En_w-Rp"
      },
      "source": [
        "sc=spark.sparkContext\n",
        "sqlContext=SQLContext(sc)"
      ],
      "execution_count": 6,
      "outputs": []
    },
    {
      "cell_type": "code",
      "metadata": {
        "id": "ffLPAHIlwMMD",
        "outputId": "654980b0-8bfa-471a-ac15-f04751c23abb",
        "colab": {
          "base_uri": "https://localhost:8080/",
          "height": 34
        }
      },
      "source": [
        "# import the datasets\n",
        "df=spark.read \\\n",
        " .option(\"header\",\"True\")\\\n",
        " .option(\"inferSchema\",\"True\")\\\n",
        " .option(\"sep\",\",\")\\\n",
        " .csv(\"cpdb_public_data_officer.csv\")\n",
        "print(\"There are\",df.count(),\"rows\",len(df.columns),\n",
        "      \"columns\" ,\"in the data.\")"
      ],
      "execution_count": 7,
      "outputs": [
        {
          "output_type": "stream",
          "text": [
            "There are 33839 rows 33 columns in the data.\n"
          ],
          "name": "stdout"
        }
      ]
    },
    {
      "cell_type": "code",
      "metadata": {
        "id": "v5sphoII7mMS",
        "outputId": "8889c3ab-d69b-4ac5-aaca-b8eaebbfe77c",
        "colab": {
          "base_uri": "https://localhost:8080/",
          "height": 224
        }
      },
      "source": [
        "df.show(5)"
      ],
      "execution_count": 8,
      "outputs": [
        {
          "output_type": "stream",
          "text": [
            "+-----+------+-----+--------------+---------+-------+----------+----------+---------+----+--------------+-----------+----------------+--------------------+---------------+------------------------------+----------------------------+------------------------------+--------------+----------------+---------------+-------------------------+-------------+--------------+----------------+-----------------------+------------+-----------------+---------+-----------------+---------------+--------------------+--------------------+\n",
            "|   id|gender| race|appointed_date|     rank| active|birth_year|first_name|last_name|tags|middle_initial|suffix_name|resignation_date|complaint_percentile|middle_initial2|civilian_allegation_percentile|honorable_mention_percentile|internal_allegation_percentile|trr_percentile|allegation_count|sustained_count|civilian_compliment_count|current_badge|current_salary|discipline_count|honorable_mention_count|last_unit_id|major_award_count|trr_count|unsustained_count|has_unique_name|          created_at|          updated_at|\n",
            "+-----+------+-----+--------------+---------+-------+----------+----------+---------+----+--------------+-----------+----------------+--------------------+---------------+------------------------------+----------------------------+------------------------------+--------------+----------------+---------------+-------------------------+-------------+--------------+----------------+-----------------------+------------+-----------------+---------+-----------------+---------------+--------------------+--------------------+\n",
            "|32300|     M|White|    2000-02-28|Detective|Unknown|      1976|    Robert|     Rose|null|             J|       null|            null|             34.6987|           null|                       43.9207|                     74.8035|                           0.0|        67.911|               4|              0|                       13|          982|         97440|               0|                     18|         215|                0|        5|                1|           true|2019-01-09 04:41:...|2019-01-09 04:41:...|\n",
            "|32218|     M|White|    1993-11-22|Detective|Unknown|      1964|    Joseph|     Nega|null|             M|       null|            null|              59.543|           null|                        47.638|                     84.2287|                           0.0|       49.1036|              12|              0|                        3|        20634|        100980|               0|                     50|         153|                0|        2|                8|           true|2019-01-09 04:41:...|2019-01-09 04:41:...|\n",
            "|32312|     M|White|    1998-11-30|Detective|Unknown|      1973|   Randall|     Ryan|null|             M|       null|            null|             62.1757|           null|                       65.6966|                     62.9589|                           0.0|       63.0035|              10|              0|                        7|        21194|         97440|               0|                      8|         151|                0|        4|                2|          false|2019-01-09 04:41:...|2019-01-09 04:41:...|\n",
            "|32358|     M|White|    1995-06-05|Detective|Unknown|      1968|     Kevin|    Stoll|null|             M|       null|            null|              85.526|           null|                       88.5838|                     86.4605|                           0.0|        67.911|              24|              0|                        6|        20701|        100980|               0|                     55|         151|                0|        5|               11|           true|2019-01-09 04:41:...|2019-01-09 04:41:...|\n",
            "|32440|     M|White|    1994-05-02|Detective|Unknown|      1968|      Mark|   Zawila|null|             A|       null|            null|             92.1287|           null|                       85.1455|                     65.6694|                           0.0|           0.0|              34|              2|                        2|        20115|        100980|               2|                     13|         153|                0|        0|               18|           true|2019-01-09 04:41:...|2019-01-09 04:41:...|\n",
            "+-----+------+-----+--------------+---------+-------+----------+----------+---------+----+--------------+-----------+----------------+--------------------+---------------+------------------------------+----------------------------+------------------------------+--------------+----------------+---------------+-------------------------+-------------+--------------+----------------+-----------------------+------------+-----------------+---------+-----------------+---------------+--------------------+--------------------+\n",
            "only showing top 5 rows\n",
            "\n"
          ],
          "name": "stdout"
        }
      ]
    },
    {
      "cell_type": "code",
      "metadata": {
        "id": "P2xVLKW-8Iom",
        "outputId": "db0637be-460e-4574-a31d-e9993a82a4a9",
        "colab": {
          "base_uri": "https://localhost:8080/",
          "height": 612
        }
      },
      "source": [
        "df.printSchema()"
      ],
      "execution_count": 9,
      "outputs": [
        {
          "output_type": "stream",
          "text": [
            "root\n",
            " |-- id: integer (nullable = true)\n",
            " |-- gender: string (nullable = true)\n",
            " |-- race: string (nullable = true)\n",
            " |-- appointed_date: string (nullable = true)\n",
            " |-- rank: string (nullable = true)\n",
            " |-- active: string (nullable = true)\n",
            " |-- birth_year: integer (nullable = true)\n",
            " |-- first_name: string (nullable = true)\n",
            " |-- last_name: string (nullable = true)\n",
            " |-- tags: string (nullable = true)\n",
            " |-- middle_initial: string (nullable = true)\n",
            " |-- suffix_name: string (nullable = true)\n",
            " |-- resignation_date: string (nullable = true)\n",
            " |-- complaint_percentile: double (nullable = true)\n",
            " |-- middle_initial2: string (nullable = true)\n",
            " |-- civilian_allegation_percentile: double (nullable = true)\n",
            " |-- honorable_mention_percentile: double (nullable = true)\n",
            " |-- internal_allegation_percentile: double (nullable = true)\n",
            " |-- trr_percentile: double (nullable = true)\n",
            " |-- allegation_count: integer (nullable = true)\n",
            " |-- sustained_count: integer (nullable = true)\n",
            " |-- civilian_compliment_count: integer (nullable = true)\n",
            " |-- current_badge: integer (nullable = true)\n",
            " |-- current_salary: integer (nullable = true)\n",
            " |-- discipline_count: integer (nullable = true)\n",
            " |-- honorable_mention_count: integer (nullable = true)\n",
            " |-- last_unit_id: integer (nullable = true)\n",
            " |-- major_award_count: integer (nullable = true)\n",
            " |-- trr_count: integer (nullable = true)\n",
            " |-- unsustained_count: integer (nullable = true)\n",
            " |-- has_unique_name: boolean (nullable = true)\n",
            " |-- created_at: string (nullable = true)\n",
            " |-- updated_at: string (nullable = true)\n",
            "\n"
          ],
          "name": "stdout"
        }
      ]
    },
    {
      "cell_type": "code",
      "metadata": {
        "id": "LoQVFrt88WrS",
        "outputId": "3e8e226f-c920-4b81-836c-e5b74e6088d6",
        "colab": {
          "base_uri": "https://localhost:8080/",
          "height": 452
        }
      },
      "source": [
        "numeric_features = [t[0] for t in df.dtypes if t[1] == 'int' and t[0] != 'id']\n",
        "df.select(numeric_features).describe().toPandas().transpose()       #toPandas here ###"
      ],
      "execution_count": 17,
      "outputs": [
        {
          "output_type": "execute_result",
          "data": {
            "text/html": [
              "<div>\n",
              "<style scoped>\n",
              "    .dataframe tbody tr th:only-of-type {\n",
              "        vertical-align: middle;\n",
              "    }\n",
              "\n",
              "    .dataframe tbody tr th {\n",
              "        vertical-align: top;\n",
              "    }\n",
              "\n",
              "    .dataframe thead th {\n",
              "        text-align: right;\n",
              "    }\n",
              "</style>\n",
              "<table border=\"1\" class=\"dataframe\">\n",
              "  <thead>\n",
              "    <tr style=\"text-align: right;\">\n",
              "      <th></th>\n",
              "      <th>0</th>\n",
              "      <th>1</th>\n",
              "      <th>2</th>\n",
              "      <th>3</th>\n",
              "      <th>4</th>\n",
              "    </tr>\n",
              "  </thead>\n",
              "  <tbody>\n",
              "    <tr>\n",
              "      <th>summary</th>\n",
              "      <td>count</td>\n",
              "      <td>mean</td>\n",
              "      <td>stddev</td>\n",
              "      <td>min</td>\n",
              "      <td>max</td>\n",
              "    </tr>\n",
              "    <tr>\n",
              "      <th>birth_year</th>\n",
              "      <td>32897</td>\n",
              "      <td>1956.50983372344</td>\n",
              "      <td>18.103345669129965</td>\n",
              "      <td>1915</td>\n",
              "      <td>1996</td>\n",
              "    </tr>\n",
              "    <tr>\n",
              "      <th>allegation_count</th>\n",
              "      <td>33839</td>\n",
              "      <td>7.381660214545347</td>\n",
              "      <td>10.953876319217938</td>\n",
              "      <td>0</td>\n",
              "      <td>175</td>\n",
              "    </tr>\n",
              "    <tr>\n",
              "      <th>sustained_count</th>\n",
              "      <td>33839</td>\n",
              "      <td>0.649841898401253</td>\n",
              "      <td>1.3900380229501774</td>\n",
              "      <td>0</td>\n",
              "      <td>28</td>\n",
              "    </tr>\n",
              "    <tr>\n",
              "      <th>civilian_compliment_count</th>\n",
              "      <td>33839</td>\n",
              "      <td>1.926534472058867</td>\n",
              "      <td>2.8720954212558696</td>\n",
              "      <td>0</td>\n",
              "      <td>69</td>\n",
              "    </tr>\n",
              "    <tr>\n",
              "      <th>current_badge</th>\n",
              "      <td>15364</td>\n",
              "      <td>11023.83135902109</td>\n",
              "      <td>6576.065097545669</td>\n",
              "      <td>1</td>\n",
              "      <td>60090</td>\n",
              "    </tr>\n",
              "    <tr>\n",
              "      <th>current_salary</th>\n",
              "      <td>19810</td>\n",
              "      <td>86467.81539626452</td>\n",
              "      <td>16967.48397171634</td>\n",
              "      <td>36984</td>\n",
              "      <td>260004</td>\n",
              "    </tr>\n",
              "    <tr>\n",
              "      <th>discipline_count</th>\n",
              "      <td>33839</td>\n",
              "      <td>0.5598569697686102</td>\n",
              "      <td>1.2636220312945967</td>\n",
              "      <td>0</td>\n",
              "      <td>28</td>\n",
              "    </tr>\n",
              "    <tr>\n",
              "      <th>honorable_mention_count</th>\n",
              "      <td>33839</td>\n",
              "      <td>12.061172020449776</td>\n",
              "      <td>23.39852996201198</td>\n",
              "      <td>0</td>\n",
              "      <td>337</td>\n",
              "    </tr>\n",
              "    <tr>\n",
              "      <th>last_unit_id</th>\n",
              "      <td>29918</td>\n",
              "      <td>60.92452704057758</td>\n",
              "      <td>74.23352673621002</td>\n",
              "      <td>2</td>\n",
              "      <td>258</td>\n",
              "    </tr>\n",
              "    <tr>\n",
              "      <th>major_award_count</th>\n",
              "      <td>33839</td>\n",
              "      <td>0.10742043204586424</td>\n",
              "      <td>0.3560844124617002</td>\n",
              "      <td>0</td>\n",
              "      <td>5</td>\n",
              "    </tr>\n",
              "    <tr>\n",
              "      <th>trr_count</th>\n",
              "      <td>33839</td>\n",
              "      <td>1.972044091137445</td>\n",
              "      <td>4.8857674783174465</td>\n",
              "      <td>0</td>\n",
              "      <td>72</td>\n",
              "    </tr>\n",
              "    <tr>\n",
              "      <th>unsustained_count</th>\n",
              "      <td>33839</td>\n",
              "      <td>3.3737994621590475</td>\n",
              "      <td>6.082939399726072</td>\n",
              "      <td>0</td>\n",
              "      <td>112</td>\n",
              "    </tr>\n",
              "  </tbody>\n",
              "</table>\n",
              "</div>"
            ],
            "text/plain": [
              "                               0                    1  ...      3       4\n",
              "summary                    count                 mean  ...    min     max\n",
              "birth_year                 32897     1956.50983372344  ...   1915    1996\n",
              "allegation_count           33839    7.381660214545347  ...      0     175\n",
              "sustained_count            33839    0.649841898401253  ...      0      28\n",
              "civilian_compliment_count  33839    1.926534472058867  ...      0      69\n",
              "current_badge              15364    11023.83135902109  ...      1   60090\n",
              "current_salary             19810    86467.81539626452  ...  36984  260004\n",
              "discipline_count           33839   0.5598569697686102  ...      0      28\n",
              "honorable_mention_count    33839   12.061172020449776  ...      0     337\n",
              "last_unit_id               29918    60.92452704057758  ...      2     258\n",
              "major_award_count          33839  0.10742043204586424  ...      0       5\n",
              "trr_count                  33839    1.972044091137445  ...      0      72\n",
              "unsustained_count          33839   3.3737994621590475  ...      0     112\n",
              "\n",
              "[13 rows x 5 columns]"
            ]
          },
          "metadata": {
            "tags": []
          },
          "execution_count": 17
        }
      ]
    },
    {
      "cell_type": "code",
      "metadata": {
        "id": "QgfjfYrXBd7U",
        "outputId": "5113e679-a29f-4a90-e2d5-402734b700f2",
        "colab": {
          "base_uri": "https://localhost:8080/",
          "height": 204
        }
      },
      "source": [
        "df.groupby('race').count().show()"
      ],
      "execution_count": 18,
      "outputs": [
        {
          "output_type": "stream",
          "text": [
            "+--------------------+-----+\n",
            "|                race|count|\n",
            "+--------------------+-----+\n",
            "|       Asian/Pacific|  544|\n",
            "|             Unknown|  185|\n",
            "|               White|20722|\n",
            "|Native American/A...|   67|\n",
            "|            Hispanic| 4599|\n",
            "|               Black| 7722|\n",
            "+--------------------+-----+\n",
            "\n"
          ],
          "name": "stdout"
        }
      ]
    },
    {
      "cell_type": "code",
      "metadata": {
        "id": "-hA4iAtVCcv4"
      },
      "source": [
        ""
      ],
      "execution_count": null,
      "outputs": []
    }
  ]
}